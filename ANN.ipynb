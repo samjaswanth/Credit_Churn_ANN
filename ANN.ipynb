{
 "cells": [
  {
   "cell_type": "markdown",
   "metadata": {},
   "source": [
    "### Importing all the data visualization and manupulation libraries "
   ]
  },
  {
   "cell_type": "code",
   "execution_count": 1,
   "metadata": {},
   "outputs": [],
   "source": [
    "import pandas as pd\n",
    "import numpy as np\n",
    "import matplotlib.pyplot as plt\n",
    "import seaborn as sns\n",
    "%matplotlib inline"
   ]
  },
  {
   "cell_type": "code",
   "execution_count": 2,
   "metadata": {},
   "outputs": [],
   "source": [
    "df = pd.read_csv(\"Churn_Modelling.csv\")"
   ]
  },
  {
   "cell_type": "code",
   "execution_count": 3,
   "metadata": {},
   "outputs": [
    {
     "data": {
      "text/html": [
       "<div>\n",
       "<style scoped>\n",
       "    .dataframe tbody tr th:only-of-type {\n",
       "        vertical-align: middle;\n",
       "    }\n",
       "\n",
       "    .dataframe tbody tr th {\n",
       "        vertical-align: top;\n",
       "    }\n",
       "\n",
       "    .dataframe thead th {\n",
       "        text-align: right;\n",
       "    }\n",
       "</style>\n",
       "<table border=\"1\" class=\"dataframe\">\n",
       "  <thead>\n",
       "    <tr style=\"text-align: right;\">\n",
       "      <th></th>\n",
       "      <th>RowNumber</th>\n",
       "      <th>CustomerId</th>\n",
       "      <th>Surname</th>\n",
       "      <th>CreditScore</th>\n",
       "      <th>Geography</th>\n",
       "      <th>Gender</th>\n",
       "      <th>Age</th>\n",
       "      <th>Tenure</th>\n",
       "      <th>Balance</th>\n",
       "      <th>NumOfProducts</th>\n",
       "      <th>HasCrCard</th>\n",
       "      <th>IsActiveMember</th>\n",
       "      <th>EstimatedSalary</th>\n",
       "      <th>Exited</th>\n",
       "    </tr>\n",
       "  </thead>\n",
       "  <tbody>\n",
       "    <tr>\n",
       "      <th>0</th>\n",
       "      <td>1</td>\n",
       "      <td>15634602</td>\n",
       "      <td>Hargrave</td>\n",
       "      <td>619</td>\n",
       "      <td>France</td>\n",
       "      <td>Female</td>\n",
       "      <td>42</td>\n",
       "      <td>2</td>\n",
       "      <td>0.00</td>\n",
       "      <td>1</td>\n",
       "      <td>1</td>\n",
       "      <td>1</td>\n",
       "      <td>101348.88</td>\n",
       "      <td>1</td>\n",
       "    </tr>\n",
       "    <tr>\n",
       "      <th>1</th>\n",
       "      <td>2</td>\n",
       "      <td>15647311</td>\n",
       "      <td>Hill</td>\n",
       "      <td>608</td>\n",
       "      <td>Spain</td>\n",
       "      <td>Female</td>\n",
       "      <td>41</td>\n",
       "      <td>1</td>\n",
       "      <td>83807.86</td>\n",
       "      <td>1</td>\n",
       "      <td>0</td>\n",
       "      <td>1</td>\n",
       "      <td>112542.58</td>\n",
       "      <td>0</td>\n",
       "    </tr>\n",
       "  </tbody>\n",
       "</table>\n",
       "</div>"
      ],
      "text/plain": [
       "   RowNumber  CustomerId   Surname  CreditScore Geography  Gender  Age  \\\n",
       "0          1    15634602  Hargrave          619    France  Female   42   \n",
       "1          2    15647311      Hill          608     Spain  Female   41   \n",
       "\n",
       "   Tenure   Balance  NumOfProducts  HasCrCard  IsActiveMember  \\\n",
       "0       2      0.00              1          1               1   \n",
       "1       1  83807.86              1          0               1   \n",
       "\n",
       "   EstimatedSalary  Exited  \n",
       "0        101348.88       1  \n",
       "1        112542.58       0  "
      ]
     },
     "execution_count": 3,
     "metadata": {},
     "output_type": "execute_result"
    }
   ],
   "source": [
    "df.head(2)"
   ]
  },
  {
   "cell_type": "markdown",
   "metadata": {},
   "source": [
    "Dropping 3 coulmns which are unecessary"
   ]
  },
  {
   "cell_type": "code",
   "execution_count": 4,
   "metadata": {},
   "outputs": [],
   "source": [
    "df=df.drop(columns=[\"RowNumber\",\"CustomerId\",\"Surname\"])"
   ]
  },
  {
   "cell_type": "code",
   "execution_count": 5,
   "metadata": {},
   "outputs": [
    {
     "data": {
      "text/html": [
       "<div>\n",
       "<style scoped>\n",
       "    .dataframe tbody tr th:only-of-type {\n",
       "        vertical-align: middle;\n",
       "    }\n",
       "\n",
       "    .dataframe tbody tr th {\n",
       "        vertical-align: top;\n",
       "    }\n",
       "\n",
       "    .dataframe thead th {\n",
       "        text-align: right;\n",
       "    }\n",
       "</style>\n",
       "<table border=\"1\" class=\"dataframe\">\n",
       "  <thead>\n",
       "    <tr style=\"text-align: right;\">\n",
       "      <th></th>\n",
       "      <th>CreditScore</th>\n",
       "      <th>Geography</th>\n",
       "      <th>Gender</th>\n",
       "      <th>Age</th>\n",
       "      <th>Tenure</th>\n",
       "      <th>Balance</th>\n",
       "      <th>NumOfProducts</th>\n",
       "      <th>HasCrCard</th>\n",
       "      <th>IsActiveMember</th>\n",
       "      <th>EstimatedSalary</th>\n",
       "      <th>Exited</th>\n",
       "    </tr>\n",
       "  </thead>\n",
       "  <tbody>\n",
       "    <tr>\n",
       "      <th>9997</th>\n",
       "      <td>709</td>\n",
       "      <td>France</td>\n",
       "      <td>Female</td>\n",
       "      <td>36</td>\n",
       "      <td>7</td>\n",
       "      <td>0.00</td>\n",
       "      <td>1</td>\n",
       "      <td>0</td>\n",
       "      <td>1</td>\n",
       "      <td>42085.58</td>\n",
       "      <td>1</td>\n",
       "    </tr>\n",
       "    <tr>\n",
       "      <th>9998</th>\n",
       "      <td>772</td>\n",
       "      <td>Germany</td>\n",
       "      <td>Male</td>\n",
       "      <td>42</td>\n",
       "      <td>3</td>\n",
       "      <td>75075.31</td>\n",
       "      <td>2</td>\n",
       "      <td>1</td>\n",
       "      <td>0</td>\n",
       "      <td>92888.52</td>\n",
       "      <td>1</td>\n",
       "    </tr>\n",
       "    <tr>\n",
       "      <th>9999</th>\n",
       "      <td>792</td>\n",
       "      <td>France</td>\n",
       "      <td>Female</td>\n",
       "      <td>28</td>\n",
       "      <td>4</td>\n",
       "      <td>130142.79</td>\n",
       "      <td>1</td>\n",
       "      <td>1</td>\n",
       "      <td>0</td>\n",
       "      <td>38190.78</td>\n",
       "      <td>0</td>\n",
       "    </tr>\n",
       "  </tbody>\n",
       "</table>\n",
       "</div>"
      ],
      "text/plain": [
       "      CreditScore Geography  Gender  Age  Tenure    Balance  NumOfProducts  \\\n",
       "9997          709    France  Female   36       7       0.00              1   \n",
       "9998          772   Germany    Male   42       3   75075.31              2   \n",
       "9999          792    France  Female   28       4  130142.79              1   \n",
       "\n",
       "      HasCrCard  IsActiveMember  EstimatedSalary  Exited  \n",
       "9997          0               1         42085.58       1  \n",
       "9998          1               0         92888.52       1  \n",
       "9999          1               0         38190.78       0  "
      ]
     },
     "execution_count": 5,
     "metadata": {},
     "output_type": "execute_result"
    }
   ],
   "source": [
    "df.tail(3)"
   ]
  },
  {
   "cell_type": "code",
   "execution_count": 6,
   "metadata": {},
   "outputs": [
    {
     "data": {
      "text/plain": [
       "array(['France', 'Spain', 'Germany'], dtype=object)"
      ]
     },
     "execution_count": 6,
     "metadata": {},
     "output_type": "execute_result"
    }
   ],
   "source": [
    "df[\"Geography\"].unique()"
   ]
  },
  {
   "cell_type": "markdown",
   "metadata": {},
   "source": [
    "### Checking for any missing values"
   ]
  },
  {
   "cell_type": "code",
   "execution_count": 7,
   "metadata": {},
   "outputs": [
    {
     "data": {
      "text/plain": [
       "CreditScore        0\n",
       "Geography          0\n",
       "Gender             0\n",
       "Age                0\n",
       "Tenure             0\n",
       "Balance            0\n",
       "NumOfProducts      0\n",
       "HasCrCard          0\n",
       "IsActiveMember     0\n",
       "EstimatedSalary    0\n",
       "Exited             0\n",
       "dtype: int64"
      ]
     },
     "execution_count": 7,
     "metadata": {},
     "output_type": "execute_result"
    }
   ],
   "source": [
    "df.isna().sum()"
   ]
  },
  {
   "cell_type": "markdown",
   "metadata": {},
   "source": [
    "### Handling Categorical data"
   ]
  },
  {
   "cell_type": "code",
   "execution_count": 8,
   "metadata": {},
   "outputs": [],
   "source": [
    "from sklearn.preprocessing import LabelEncoder"
   ]
  },
  {
   "cell_type": "code",
   "execution_count": 9,
   "metadata": {},
   "outputs": [],
   "source": [
    "df[[\"Geography\",\"Gender\"]]=df[[\"Geography\",\"Gender\"]].apply(LabelEncoder().fit_transform)\n"
   ]
  },
  {
   "cell_type": "code",
   "execution_count": 10,
   "metadata": {},
   "outputs": [
    {
     "data": {
      "text/html": [
       "<div>\n",
       "<style scoped>\n",
       "    .dataframe tbody tr th:only-of-type {\n",
       "        vertical-align: middle;\n",
       "    }\n",
       "\n",
       "    .dataframe tbody tr th {\n",
       "        vertical-align: top;\n",
       "    }\n",
       "\n",
       "    .dataframe thead th {\n",
       "        text-align: right;\n",
       "    }\n",
       "</style>\n",
       "<table border=\"1\" class=\"dataframe\">\n",
       "  <thead>\n",
       "    <tr style=\"text-align: right;\">\n",
       "      <th></th>\n",
       "      <th>CreditScore</th>\n",
       "      <th>Geography</th>\n",
       "      <th>Gender</th>\n",
       "      <th>Age</th>\n",
       "      <th>Tenure</th>\n",
       "      <th>Balance</th>\n",
       "      <th>NumOfProducts</th>\n",
       "      <th>HasCrCard</th>\n",
       "      <th>IsActiveMember</th>\n",
       "      <th>EstimatedSalary</th>\n",
       "      <th>Exited</th>\n",
       "    </tr>\n",
       "  </thead>\n",
       "  <tbody>\n",
       "    <tr>\n",
       "      <th>9997</th>\n",
       "      <td>709</td>\n",
       "      <td>0</td>\n",
       "      <td>0</td>\n",
       "      <td>36</td>\n",
       "      <td>7</td>\n",
       "      <td>0.00</td>\n",
       "      <td>1</td>\n",
       "      <td>0</td>\n",
       "      <td>1</td>\n",
       "      <td>42085.58</td>\n",
       "      <td>1</td>\n",
       "    </tr>\n",
       "    <tr>\n",
       "      <th>9998</th>\n",
       "      <td>772</td>\n",
       "      <td>1</td>\n",
       "      <td>1</td>\n",
       "      <td>42</td>\n",
       "      <td>3</td>\n",
       "      <td>75075.31</td>\n",
       "      <td>2</td>\n",
       "      <td>1</td>\n",
       "      <td>0</td>\n",
       "      <td>92888.52</td>\n",
       "      <td>1</td>\n",
       "    </tr>\n",
       "    <tr>\n",
       "      <th>9999</th>\n",
       "      <td>792</td>\n",
       "      <td>0</td>\n",
       "      <td>0</td>\n",
       "      <td>28</td>\n",
       "      <td>4</td>\n",
       "      <td>130142.79</td>\n",
       "      <td>1</td>\n",
       "      <td>1</td>\n",
       "      <td>0</td>\n",
       "      <td>38190.78</td>\n",
       "      <td>0</td>\n",
       "    </tr>\n",
       "  </tbody>\n",
       "</table>\n",
       "</div>"
      ],
      "text/plain": [
       "      CreditScore  Geography  Gender  Age  Tenure    Balance  NumOfProducts  \\\n",
       "9997          709          0       0   36       7       0.00              1   \n",
       "9998          772          1       1   42       3   75075.31              2   \n",
       "9999          792          0       0   28       4  130142.79              1   \n",
       "\n",
       "      HasCrCard  IsActiveMember  EstimatedSalary  Exited  \n",
       "9997          0               1         42085.58       1  \n",
       "9998          1               0         92888.52       1  \n",
       "9999          1               0         38190.78       0  "
      ]
     },
     "execution_count": 10,
     "metadata": {},
     "output_type": "execute_result"
    }
   ],
   "source": [
    "df.tail(3)"
   ]
  },
  {
   "cell_type": "markdown",
   "metadata": {},
   "source": [
    "###### 0 - France | 1 - Germany | 2 - Spain"
   ]
  },
  {
   "cell_type": "markdown",
   "metadata": {},
   "source": [
    "### Performing train test split "
   ]
  },
  {
   "cell_type": "code",
   "execution_count": 38,
   "metadata": {},
   "outputs": [],
   "source": [
    "X = df.drop(columns=\"Exited\") # Independent features\n",
    "y = df[\"Exited\"]              # Dependent Feature"
   ]
  },
  {
   "cell_type": "code",
   "execution_count": 12,
   "metadata": {},
   "outputs": [],
   "source": [
    "from sklearn.model_selection import train_test_split"
   ]
  },
  {
   "cell_type": "code",
   "execution_count": 13,
   "metadata": {},
   "outputs": [],
   "source": [
    "X_train, X_test, y_train, y_test = train_test_split(X, y, test_size=0.33, random_state=0)"
   ]
  },
  {
   "cell_type": "code",
   "execution_count": 14,
   "metadata": {},
   "outputs": [
    {
     "name": "stdout",
     "output_type": "stream",
     "text": [
      "(6700, 10)\n"
     ]
    }
   ],
   "source": [
    "print(X_train.shape)"
   ]
  },
  {
   "cell_type": "markdown",
   "metadata": {},
   "source": [
    "### Performing Feature Scaling"
   ]
  },
  {
   "cell_type": "code",
   "execution_count": 15,
   "metadata": {},
   "outputs": [],
   "source": [
    "from sklearn.preprocessing import StandardScaler"
   ]
  },
  {
   "cell_type": "code",
   "execution_count": 16,
   "metadata": {},
   "outputs": [],
   "source": [
    "sc = StandardScaler()"
   ]
  },
  {
   "cell_type": "code",
   "execution_count": 17,
   "metadata": {},
   "outputs": [],
   "source": [
    "X_train = sc.fit_transform(X_train)"
   ]
  },
  {
   "cell_type": "code",
   "execution_count": 18,
   "metadata": {},
   "outputs": [],
   "source": [
    "X_test = sc.transform(X_test)"
   ]
  },
  {
   "cell_type": "markdown",
   "metadata": {},
   "source": [
    "### Importing Keras libraries"
   ]
  },
  {
   "cell_type": "code",
   "execution_count": 19,
   "metadata": {},
   "outputs": [],
   "source": [
    "import keras"
   ]
  },
  {
   "cell_type": "code",
   "execution_count": 20,
   "metadata": {},
   "outputs": [],
   "source": [
    "from keras.models import Sequential\n",
    "from keras.layers import Dense"
   ]
  },
  {
   "cell_type": "markdown",
   "metadata": {},
   "source": [
    "### Building the model"
   ]
  },
  {
   "cell_type": "code",
   "execution_count": 21,
   "metadata": {},
   "outputs": [],
   "source": [
    "model=Sequential()"
   ]
  },
  {
   "cell_type": "code",
   "execution_count": 22,
   "metadata": {},
   "outputs": [],
   "source": [
    "model.add(Dense(units=10,kernel_initializer=\"he_normal\",activation=\"relu\",input_dim=10))\n",
    "\n",
    "model.add(Dense(units=10,kernel_initializer=\"he_normal\",activation=\"relu\"))\n",
    "\n",
    "model.add(Dense(units=1,kernel_initializer=\"glorot_uniform\",activation=\"sigmoid\"))"
   ]
  },
  {
   "cell_type": "code",
   "execution_count": 23,
   "metadata": {},
   "outputs": [],
   "source": [
    "model.compile(optimizer=\"adamax\",loss=\"binary_crossentropy\",metrics=[\"accuracy\"])"
   ]
  },
  {
   "cell_type": "code",
   "execution_count": 24,
   "metadata": {},
   "outputs": [
    {
     "name": "stdout",
     "output_type": "stream",
     "text": [
      "Epoch 1/200\n",
      "449/449 [==============================] - 1s 2ms/step - loss: 0.5644 - accuracy: 0.7696 - val_loss: 0.5302 - val_accuracy: 0.7966\n",
      "Epoch 2/200\n",
      "449/449 [==============================] - 0s 778us/step - loss: 0.5116 - accuracy: 0.7988 - val_loss: 0.5139 - val_accuracy: 0.7966\n",
      "Epoch 3/200\n",
      "449/449 [==============================] - 0s 785us/step - loss: 0.4981 - accuracy: 0.7991 - val_loss: 0.5000 - val_accuracy: 0.7966\n",
      "Epoch 4/200\n",
      "449/449 [==============================] - 0s 779us/step - loss: 0.4822 - accuracy: 0.7976 - val_loss: 0.4895 - val_accuracy: 0.7966\n",
      "Epoch 5/200\n",
      "449/449 [==============================] - 0s 782us/step - loss: 0.4690 - accuracy: 0.8022 - val_loss: 0.4811 - val_accuracy: 0.7970\n",
      "Epoch 6/200\n",
      "449/449 [==============================] - 0s 781us/step - loss: 0.4603 - accuracy: 0.8017 - val_loss: 0.4747 - val_accuracy: 0.7979\n",
      "Epoch 7/200\n",
      "449/449 [==============================] - 0s 783us/step - loss: 0.4585 - accuracy: 0.7948 - val_loss: 0.4692 - val_accuracy: 0.7988\n",
      "Epoch 8/200\n",
      "449/449 [==============================] - 0s 740us/step - loss: 0.4550 - accuracy: 0.7980 - val_loss: 0.4637 - val_accuracy: 0.8006\n",
      "Epoch 9/200\n",
      "449/449 [==============================] - 0s 746us/step - loss: 0.4485 - accuracy: 0.7944 - val_loss: 0.4592 - val_accuracy: 0.8015\n",
      "Epoch 10/200\n",
      "449/449 [==============================] - 0s 739us/step - loss: 0.4465 - accuracy: 0.8022 - val_loss: 0.4549 - val_accuracy: 0.8006\n",
      "Epoch 11/200\n",
      "449/449 [==============================] - 0s 843us/step - loss: 0.4427 - accuracy: 0.8047 - val_loss: 0.4524 - val_accuracy: 0.8011\n",
      "Epoch 12/200\n",
      "449/449 [==============================] - 0s 738us/step - loss: 0.4392 - accuracy: 0.8050 - val_loss: 0.4485 - val_accuracy: 0.8015\n",
      "Epoch 13/200\n",
      "449/449 [==============================] - 0s 730us/step - loss: 0.4228 - accuracy: 0.8103 - val_loss: 0.4455 - val_accuracy: 0.7997\n",
      "Epoch 14/200\n",
      "449/449 [==============================] - 0s 744us/step - loss: 0.4385 - accuracy: 0.7985 - val_loss: 0.4427 - val_accuracy: 0.7993\n",
      "Epoch 15/200\n",
      "449/449 [==============================] - 0s 733us/step - loss: 0.4219 - accuracy: 0.8037 - val_loss: 0.4405 - val_accuracy: 0.7984\n",
      "Epoch 16/200\n",
      "449/449 [==============================] - 0s 736us/step - loss: 0.4181 - accuracy: 0.8075 - val_loss: 0.4385 - val_accuracy: 0.7984\n",
      "Epoch 17/200\n",
      "449/449 [==============================] - 0s 731us/step - loss: 0.4156 - accuracy: 0.8095 - val_loss: 0.4364 - val_accuracy: 0.8020\n",
      "Epoch 18/200\n",
      "449/449 [==============================] - 0s 729us/step - loss: 0.4147 - accuracy: 0.8062 - val_loss: 0.4335 - val_accuracy: 0.8052\n",
      "Epoch 19/200\n",
      "449/449 [==============================] - 0s 746us/step - loss: 0.4144 - accuracy: 0.8118 - val_loss: 0.4310 - val_accuracy: 0.8052\n",
      "Epoch 20/200\n",
      "449/449 [==============================] - 0s 749us/step - loss: 0.4025 - accuracy: 0.8260 - val_loss: 0.4283 - val_accuracy: 0.8065\n",
      "Epoch 21/200\n",
      "449/449 [==============================] - 0s 750us/step - loss: 0.4002 - accuracy: 0.8265 - val_loss: 0.4255 - val_accuracy: 0.8074\n",
      "Epoch 22/200\n",
      "449/449 [==============================] - 0s 744us/step - loss: 0.3867 - accuracy: 0.8383 - val_loss: 0.4229 - val_accuracy: 0.8101\n",
      "Epoch 23/200\n",
      "449/449 [==============================] - 0s 744us/step - loss: 0.3894 - accuracy: 0.8281 - val_loss: 0.4204 - val_accuracy: 0.8128\n",
      "Epoch 24/200\n",
      "449/449 [==============================] - 0s 755us/step - loss: 0.4010 - accuracy: 0.8263 - val_loss: 0.4181 - val_accuracy: 0.8160\n",
      "Epoch 25/200\n",
      "449/449 [==============================] - 0s 758us/step - loss: 0.4036 - accuracy: 0.8246 - val_loss: 0.4153 - val_accuracy: 0.8151\n",
      "Epoch 26/200\n",
      "449/449 [==============================] - 0s 757us/step - loss: 0.3869 - accuracy: 0.8242 - val_loss: 0.4122 - val_accuracy: 0.8192\n",
      "Epoch 27/200\n",
      "449/449 [==============================] - 0s 740us/step - loss: 0.3889 - accuracy: 0.8293 - val_loss: 0.4092 - val_accuracy: 0.8210\n",
      "Epoch 28/200\n",
      "449/449 [==============================] - 0s 741us/step - loss: 0.3857 - accuracy: 0.8327 - val_loss: 0.4068 - val_accuracy: 0.8246\n",
      "Epoch 29/200\n",
      "449/449 [==============================] - 0s 739us/step - loss: 0.3876 - accuracy: 0.8303 - val_loss: 0.4041 - val_accuracy: 0.8296\n",
      "Epoch 30/200\n",
      "449/449 [==============================] - 0s 757us/step - loss: 0.3839 - accuracy: 0.8360 - val_loss: 0.4013 - val_accuracy: 0.8314\n",
      "Epoch 31/200\n",
      "449/449 [==============================] - 0s 749us/step - loss: 0.3810 - accuracy: 0.8407 - val_loss: 0.3989 - val_accuracy: 0.8323\n",
      "Epoch 32/200\n",
      "449/449 [==============================] - 0s 734us/step - loss: 0.3707 - accuracy: 0.8511 - val_loss: 0.3961 - val_accuracy: 0.8309\n",
      "Epoch 33/200\n",
      "449/449 [==============================] - 0s 745us/step - loss: 0.3613 - accuracy: 0.8481 - val_loss: 0.3941 - val_accuracy: 0.8327\n",
      "Epoch 34/200\n",
      "449/449 [==============================] - 0s 754us/step - loss: 0.3536 - accuracy: 0.8550 - val_loss: 0.3919 - val_accuracy: 0.8309\n",
      "Epoch 35/200\n",
      "449/449 [==============================] - 0s 740us/step - loss: 0.3681 - accuracy: 0.8426 - val_loss: 0.3903 - val_accuracy: 0.8305\n",
      "Epoch 36/200\n",
      "449/449 [==============================] - 0s 719us/step - loss: 0.3645 - accuracy: 0.8477 - val_loss: 0.3885 - val_accuracy: 0.8323\n",
      "Epoch 37/200\n",
      "449/449 [==============================] - 0s 734us/step - loss: 0.3491 - accuracy: 0.8567 - val_loss: 0.3874 - val_accuracy: 0.8332\n",
      "Epoch 38/200\n",
      "449/449 [==============================] - 0s 754us/step - loss: 0.3408 - accuracy: 0.8590 - val_loss: 0.3859 - val_accuracy: 0.8341\n",
      "Epoch 39/200\n",
      "449/449 [==============================] - 0s 754us/step - loss: 0.3600 - accuracy: 0.8519 - val_loss: 0.3855 - val_accuracy: 0.8332\n",
      "Epoch 40/200\n",
      "449/449 [==============================] - 0s 747us/step - loss: 0.3436 - accuracy: 0.8622 - val_loss: 0.3839 - val_accuracy: 0.8368\n",
      "Epoch 41/200\n",
      "449/449 [==============================] - 0s 773us/step - loss: 0.3426 - accuracy: 0.8591 - val_loss: 0.3830 - val_accuracy: 0.8382\n",
      "Epoch 42/200\n",
      "449/449 [==============================] - 0s 754us/step - loss: 0.3591 - accuracy: 0.8492 - val_loss: 0.3825 - val_accuracy: 0.8400\n",
      "Epoch 43/200\n",
      "449/449 [==============================] - 0s 761us/step - loss: 0.3528 - accuracy: 0.8567 - val_loss: 0.3817 - val_accuracy: 0.8386\n",
      "Epoch 44/200\n",
      "449/449 [==============================] - 0s 736us/step - loss: 0.3458 - accuracy: 0.8515 - val_loss: 0.3821 - val_accuracy: 0.8386\n",
      "Epoch 45/200\n",
      "449/449 [==============================] - 0s 746us/step - loss: 0.3541 - accuracy: 0.8479 - val_loss: 0.3806 - val_accuracy: 0.8386\n",
      "Epoch 46/200\n",
      "449/449 [==============================] - 0s 746us/step - loss: 0.3486 - accuracy: 0.8562 - val_loss: 0.3799 - val_accuracy: 0.8391\n",
      "Epoch 47/200\n",
      "449/449 [==============================] - 0s 745us/step - loss: 0.3399 - accuracy: 0.8610 - val_loss: 0.3797 - val_accuracy: 0.8386\n",
      "Epoch 48/200\n",
      "449/449 [==============================] - 0s 754us/step - loss: 0.3427 - accuracy: 0.8566 - val_loss: 0.3795 - val_accuracy: 0.8382\n",
      "Epoch 49/200\n",
      "449/449 [==============================] - 0s 762us/step - loss: 0.3528 - accuracy: 0.8540 - val_loss: 0.3788 - val_accuracy: 0.8395\n",
      "Epoch 50/200\n",
      "449/449 [==============================] - 0s 752us/step - loss: 0.3454 - accuracy: 0.8531 - val_loss: 0.3787 - val_accuracy: 0.8404\n",
      "Epoch 51/200\n",
      "449/449 [==============================] - 0s 756us/step - loss: 0.3372 - accuracy: 0.8542 - val_loss: 0.3776 - val_accuracy: 0.8400\n",
      "Epoch 52/200\n",
      "449/449 [==============================] - 0s 745us/step - loss: 0.3355 - accuracy: 0.8668 - val_loss: 0.3775 - val_accuracy: 0.8386\n",
      "Epoch 53/200\n",
      "449/449 [==============================] - 0s 759us/step - loss: 0.3457 - accuracy: 0.8628 - val_loss: 0.3772 - val_accuracy: 0.8386\n",
      "Epoch 54/200\n",
      "449/449 [==============================] - 0s 739us/step - loss: 0.3467 - accuracy: 0.8572 - val_loss: 0.3774 - val_accuracy: 0.8391\n",
      "Epoch 55/200\n",
      "449/449 [==============================] - 0s 752us/step - loss: 0.3395 - accuracy: 0.8570 - val_loss: 0.3766 - val_accuracy: 0.8409\n",
      "Epoch 56/200\n",
      "449/449 [==============================] - 0s 749us/step - loss: 0.3369 - accuracy: 0.8661 - val_loss: 0.3766 - val_accuracy: 0.8409\n",
      "Epoch 57/200\n"
     ]
    },
    {
     "name": "stdout",
     "output_type": "stream",
     "text": [
      "449/449 [==============================] - 0s 735us/step - loss: 0.3339 - accuracy: 0.8688 - val_loss: 0.3760 - val_accuracy: 0.8409\n",
      "Epoch 58/200\n",
      "449/449 [==============================] - 0s 753us/step - loss: 0.3517 - accuracy: 0.8522 - val_loss: 0.3767 - val_accuracy: 0.8418\n",
      "Epoch 59/200\n",
      "449/449 [==============================] - 0s 748us/step - loss: 0.3473 - accuracy: 0.8526 - val_loss: 0.3755 - val_accuracy: 0.8422\n",
      "Epoch 60/200\n",
      "449/449 [==============================] - 0s 753us/step - loss: 0.3372 - accuracy: 0.8594 - val_loss: 0.3754 - val_accuracy: 0.8440\n",
      "Epoch 61/200\n",
      "449/449 [==============================] - 0s 745us/step - loss: 0.3454 - accuracy: 0.8535 - val_loss: 0.3750 - val_accuracy: 0.8440\n",
      "Epoch 62/200\n",
      "449/449 [==============================] - 0s 740us/step - loss: 0.3509 - accuracy: 0.8564 - val_loss: 0.3752 - val_accuracy: 0.8436\n",
      "Epoch 63/200\n",
      "449/449 [==============================] - 0s 745us/step - loss: 0.3450 - accuracy: 0.8597 - val_loss: 0.3745 - val_accuracy: 0.8449\n",
      "Epoch 64/200\n",
      "449/449 [==============================] - 0s 870us/step - loss: 0.3370 - accuracy: 0.8626 - val_loss: 0.3745 - val_accuracy: 0.8440\n",
      "Epoch 65/200\n",
      "449/449 [==============================] - 0s 738us/step - loss: 0.3334 - accuracy: 0.8648 - val_loss: 0.3743 - val_accuracy: 0.8445\n",
      "Epoch 66/200\n",
      "449/449 [==============================] - 0s 750us/step - loss: 0.3448 - accuracy: 0.8565 - val_loss: 0.3739 - val_accuracy: 0.8440\n",
      "Epoch 67/200\n",
      "449/449 [==============================] - 0s 740us/step - loss: 0.3335 - accuracy: 0.8575 - val_loss: 0.3737 - val_accuracy: 0.8449\n",
      "Epoch 68/200\n",
      "449/449 [==============================] - 0s 742us/step - loss: 0.3263 - accuracy: 0.8655 - val_loss: 0.3741 - val_accuracy: 0.8449\n",
      "Epoch 69/200\n",
      "449/449 [==============================] - 0s 737us/step - loss: 0.3428 - accuracy: 0.8585 - val_loss: 0.3736 - val_accuracy: 0.8440\n",
      "Epoch 70/200\n",
      "449/449 [==============================] - 0s 750us/step - loss: 0.3431 - accuracy: 0.8605 - val_loss: 0.3735 - val_accuracy: 0.8445\n",
      "Epoch 71/200\n",
      "449/449 [==============================] - 0s 739us/step - loss: 0.3288 - accuracy: 0.8711 - val_loss: 0.3732 - val_accuracy: 0.8440\n",
      "Epoch 72/200\n",
      "449/449 [==============================] - 0s 736us/step - loss: 0.3299 - accuracy: 0.8641 - val_loss: 0.3736 - val_accuracy: 0.8454\n",
      "Epoch 73/200\n",
      "449/449 [==============================] - 0s 740us/step - loss: 0.3275 - accuracy: 0.8635 - val_loss: 0.3731 - val_accuracy: 0.8458\n",
      "Epoch 74/200\n",
      "449/449 [==============================] - 0s 742us/step - loss: 0.3318 - accuracy: 0.8605 - val_loss: 0.3730 - val_accuracy: 0.8454\n",
      "Epoch 75/200\n",
      "449/449 [==============================] - 0s 741us/step - loss: 0.3383 - accuracy: 0.8582 - val_loss: 0.3734 - val_accuracy: 0.8463\n",
      "Epoch 76/200\n",
      "449/449 [==============================] - 0s 739us/step - loss: 0.3247 - accuracy: 0.8633 - val_loss: 0.3724 - val_accuracy: 0.8458\n",
      "Epoch 77/200\n",
      "449/449 [==============================] - 0s 744us/step - loss: 0.3456 - accuracy: 0.8536 - val_loss: 0.3727 - val_accuracy: 0.8476\n",
      "Epoch 78/200\n",
      "449/449 [==============================] - 0s 734us/step - loss: 0.3321 - accuracy: 0.8615 - val_loss: 0.3722 - val_accuracy: 0.8463\n",
      "Epoch 79/200\n",
      "449/449 [==============================] - 0s 739us/step - loss: 0.3372 - accuracy: 0.8574 - val_loss: 0.3726 - val_accuracy: 0.8476\n",
      "Epoch 80/200\n",
      "449/449 [==============================] - 0s 740us/step - loss: 0.3235 - accuracy: 0.8623 - val_loss: 0.3721 - val_accuracy: 0.8463\n",
      "Epoch 81/200\n",
      "449/449 [==============================] - 0s 738us/step - loss: 0.3335 - accuracy: 0.8600 - val_loss: 0.3717 - val_accuracy: 0.8472\n",
      "Epoch 82/200\n",
      "449/449 [==============================] - 0s 738us/step - loss: 0.3409 - accuracy: 0.8540 - val_loss: 0.3718 - val_accuracy: 0.8472\n",
      "Epoch 83/200\n",
      "449/449 [==============================] - 0s 741us/step - loss: 0.3199 - accuracy: 0.8652 - val_loss: 0.3717 - val_accuracy: 0.8481\n",
      "Epoch 84/200\n",
      "449/449 [==============================] - 0s 739us/step - loss: 0.3397 - accuracy: 0.8562 - val_loss: 0.3712 - val_accuracy: 0.8481\n",
      "Epoch 85/200\n",
      "449/449 [==============================] - 0s 744us/step - loss: 0.3223 - accuracy: 0.8660 - val_loss: 0.3709 - val_accuracy: 0.8467\n",
      "Epoch 86/200\n",
      "449/449 [==============================] - 0s 744us/step - loss: 0.3269 - accuracy: 0.8661 - val_loss: 0.3706 - val_accuracy: 0.8467\n",
      "Epoch 87/200\n",
      "449/449 [==============================] - 0s 730us/step - loss: 0.3307 - accuracy: 0.8613 - val_loss: 0.3704 - val_accuracy: 0.8472\n",
      "Epoch 88/200\n",
      "449/449 [==============================] - 0s 736us/step - loss: 0.3328 - accuracy: 0.8616 - val_loss: 0.3706 - val_accuracy: 0.8463\n",
      "Epoch 89/200\n",
      "449/449 [==============================] - 0s 774us/step - loss: 0.3143 - accuracy: 0.8686 - val_loss: 0.3705 - val_accuracy: 0.8458\n",
      "Epoch 90/200\n",
      "449/449 [==============================] - 0s 746us/step - loss: 0.3298 - accuracy: 0.8617 - val_loss: 0.3708 - val_accuracy: 0.8467\n",
      "Epoch 91/200\n",
      "449/449 [==============================] - 0s 738us/step - loss: 0.3448 - accuracy: 0.8556 - val_loss: 0.3707 - val_accuracy: 0.8476\n",
      "Epoch 92/200\n",
      "449/449 [==============================] - 0s 743us/step - loss: 0.3306 - accuracy: 0.8633 - val_loss: 0.3700 - val_accuracy: 0.8472\n",
      "Epoch 93/200\n",
      "449/449 [==============================] - 0s 740us/step - loss: 0.3307 - accuracy: 0.8634 - val_loss: 0.3704 - val_accuracy: 0.8463\n",
      "Epoch 94/200\n",
      "449/449 [==============================] - 0s 745us/step - loss: 0.3195 - accuracy: 0.8640 - val_loss: 0.3698 - val_accuracy: 0.8476\n",
      "Epoch 95/200\n",
      "449/449 [==============================] - 0s 739us/step - loss: 0.3251 - accuracy: 0.8637 - val_loss: 0.3699 - val_accuracy: 0.8467\n",
      "Epoch 96/200\n",
      "449/449 [==============================] - 0s 739us/step - loss: 0.3342 - accuracy: 0.8620 - val_loss: 0.3700 - val_accuracy: 0.8463\n",
      "Epoch 97/200\n",
      "449/449 [==============================] - 0s 750us/step - loss: 0.3245 - accuracy: 0.8646 - val_loss: 0.3695 - val_accuracy: 0.8463\n",
      "Epoch 98/200\n",
      "449/449 [==============================] - 0s 737us/step - loss: 0.3269 - accuracy: 0.8647 - val_loss: 0.3696 - val_accuracy: 0.8467\n",
      "Epoch 99/200\n",
      "449/449 [==============================] - 0s 739us/step - loss: 0.3222 - accuracy: 0.8685 - val_loss: 0.3695 - val_accuracy: 0.8476\n",
      "Epoch 100/200\n",
      "449/449 [==============================] - 0s 736us/step - loss: 0.3340 - accuracy: 0.8662 - val_loss: 0.3700 - val_accuracy: 0.8467\n",
      "Epoch 101/200\n",
      "449/449 [==============================] - 0s 760us/step - loss: 0.3346 - accuracy: 0.8577 - val_loss: 0.3699 - val_accuracy: 0.8467\n",
      "Epoch 102/200\n",
      "449/449 [==============================] - 0s 733us/step - loss: 0.3337 - accuracy: 0.8601 - val_loss: 0.3698 - val_accuracy: 0.8458\n",
      "Epoch 103/200\n",
      "449/449 [==============================] - 0s 738us/step - loss: 0.3184 - accuracy: 0.8713 - val_loss: 0.3691 - val_accuracy: 0.8472\n",
      "Epoch 104/200\n",
      "449/449 [==============================] - 0s 739us/step - loss: 0.3277 - accuracy: 0.8635 - val_loss: 0.3695 - val_accuracy: 0.8467\n",
      "Epoch 105/200\n",
      "449/449 [==============================] - 0s 739us/step - loss: 0.3121 - accuracy: 0.8723 - val_loss: 0.3693 - val_accuracy: 0.8476\n",
      "Epoch 106/200\n",
      "449/449 [==============================] - 0s 756us/step - loss: 0.3256 - accuracy: 0.8660 - val_loss: 0.3690 - val_accuracy: 0.8458\n",
      "Epoch 107/200\n",
      "449/449 [==============================] - 0s 742us/step - loss: 0.3350 - accuracy: 0.8581 - val_loss: 0.3690 - val_accuracy: 0.8486\n",
      "Epoch 108/200\n",
      "449/449 [==============================] - 0s 738us/step - loss: 0.3293 - accuracy: 0.8661 - val_loss: 0.3690 - val_accuracy: 0.8472\n",
      "Epoch 109/200\n",
      "449/449 [==============================] - 0s 738us/step - loss: 0.3330 - accuracy: 0.8629 - val_loss: 0.3690 - val_accuracy: 0.8467\n",
      "Epoch 110/200\n",
      "449/449 [==============================] - 0s 737us/step - loss: 0.3161 - accuracy: 0.8742 - val_loss: 0.3684 - val_accuracy: 0.8476\n",
      "Epoch 111/200\n",
      "449/449 [==============================] - 0s 737us/step - loss: 0.3267 - accuracy: 0.8682 - val_loss: 0.3685 - val_accuracy: 0.8476\n",
      "Epoch 112/200\n",
      "449/449 [==============================] - 0s 739us/step - loss: 0.3240 - accuracy: 0.8718 - val_loss: 0.3684 - val_accuracy: 0.8490\n",
      "Epoch 113/200\n"
     ]
    },
    {
     "name": "stdout",
     "output_type": "stream",
     "text": [
      "449/449 [==============================] - 0s 736us/step - loss: 0.3211 - accuracy: 0.8666 - val_loss: 0.3685 - val_accuracy: 0.8486\n",
      "Epoch 114/200\n",
      "449/449 [==============================] - 0s 727us/step - loss: 0.3258 - accuracy: 0.8704 - val_loss: 0.3691 - val_accuracy: 0.8463\n",
      "Epoch 115/200\n",
      "449/449 [==============================] - 0s 727us/step - loss: 0.3361 - accuracy: 0.8613 - val_loss: 0.3688 - val_accuracy: 0.8481\n",
      "Epoch 116/200\n",
      "449/449 [==============================] - 0s 727us/step - loss: 0.3216 - accuracy: 0.8703 - val_loss: 0.3683 - val_accuracy: 0.8476\n",
      "Epoch 117/200\n",
      "449/449 [==============================] - 0s 730us/step - loss: 0.3233 - accuracy: 0.8692 - val_loss: 0.3681 - val_accuracy: 0.8481\n",
      "Epoch 118/200\n",
      "449/449 [==============================] - 0s 848us/step - loss: 0.3248 - accuracy: 0.8675 - val_loss: 0.3683 - val_accuracy: 0.8486\n",
      "Epoch 119/200\n",
      "449/449 [==============================] - 0s 729us/step - loss: 0.3095 - accuracy: 0.8757 - val_loss: 0.3680 - val_accuracy: 0.8481\n",
      "Epoch 120/200\n",
      "449/449 [==============================] - 0s 730us/step - loss: 0.3322 - accuracy: 0.8647 - val_loss: 0.3681 - val_accuracy: 0.8481\n",
      "Epoch 121/200\n",
      "449/449 [==============================] - 0s 733us/step - loss: 0.3275 - accuracy: 0.8648 - val_loss: 0.3676 - val_accuracy: 0.8490\n",
      "Epoch 122/200\n",
      "449/449 [==============================] - 0s 731us/step - loss: 0.3334 - accuracy: 0.8646 - val_loss: 0.3686 - val_accuracy: 0.8463\n",
      "Epoch 123/200\n",
      "449/449 [==============================] - 0s 725us/step - loss: 0.3288 - accuracy: 0.8597 - val_loss: 0.3686 - val_accuracy: 0.8472\n",
      "Epoch 124/200\n",
      "449/449 [==============================] - 0s 727us/step - loss: 0.3301 - accuracy: 0.8662 - val_loss: 0.3680 - val_accuracy: 0.8486\n",
      "Epoch 125/200\n",
      "449/449 [==============================] - 0s 732us/step - loss: 0.3199 - accuracy: 0.8633 - val_loss: 0.3676 - val_accuracy: 0.8490\n",
      "Epoch 126/200\n",
      "449/449 [==============================] - 0s 728us/step - loss: 0.3216 - accuracy: 0.8725 - val_loss: 0.3679 - val_accuracy: 0.8481\n",
      "Epoch 127/200\n",
      "449/449 [==============================] - 0s 725us/step - loss: 0.3236 - accuracy: 0.8718 - val_loss: 0.3678 - val_accuracy: 0.8495\n",
      "Epoch 128/200\n",
      "449/449 [==============================] - 0s 734us/step - loss: 0.3136 - accuracy: 0.8680 - val_loss: 0.3682 - val_accuracy: 0.8481\n",
      "Epoch 129/200\n",
      "449/449 [==============================] - 0s 755us/step - loss: 0.3272 - accuracy: 0.8626 - val_loss: 0.3679 - val_accuracy: 0.8481\n",
      "Epoch 130/200\n",
      "449/449 [==============================] - 0s 726us/step - loss: 0.3166 - accuracy: 0.8660 - val_loss: 0.3677 - val_accuracy: 0.8486\n",
      "Epoch 131/200\n",
      "449/449 [==============================] - 0s 731us/step - loss: 0.3306 - accuracy: 0.8630 - val_loss: 0.3682 - val_accuracy: 0.8472\n",
      "Epoch 132/200\n",
      "449/449 [==============================] - 0s 730us/step - loss: 0.3025 - accuracy: 0.8773 - val_loss: 0.3676 - val_accuracy: 0.8486\n",
      "Epoch 133/200\n",
      "449/449 [==============================] - 0s 723us/step - loss: 0.3081 - accuracy: 0.8750 - val_loss: 0.3678 - val_accuracy: 0.8481\n",
      "Epoch 134/200\n",
      "449/449 [==============================] - 0s 731us/step - loss: 0.3083 - accuracy: 0.8716 - val_loss: 0.3676 - val_accuracy: 0.8490\n",
      "Epoch 135/200\n",
      "449/449 [==============================] - 0s 734us/step - loss: 0.3261 - accuracy: 0.8681 - val_loss: 0.3678 - val_accuracy: 0.8467\n",
      "Epoch 136/200\n",
      "449/449 [==============================] - 0s 734us/step - loss: 0.3261 - accuracy: 0.8648 - val_loss: 0.3681 - val_accuracy: 0.8481\n",
      "Epoch 137/200\n",
      "449/449 [==============================] - 0s 755us/step - loss: 0.3182 - accuracy: 0.8695 - val_loss: 0.3679 - val_accuracy: 0.8504\n",
      "Epoch 138/200\n",
      "449/449 [==============================] - 0s 739us/step - loss: 0.3279 - accuracy: 0.8666 - val_loss: 0.3686 - val_accuracy: 0.8495\n",
      "Epoch 139/200\n",
      "449/449 [==============================] - 0s 735us/step - loss: 0.3359 - accuracy: 0.8646 - val_loss: 0.3680 - val_accuracy: 0.8486\n",
      "Epoch 140/200\n",
      "449/449 [==============================] - 0s 727us/step - loss: 0.3199 - accuracy: 0.8775 - val_loss: 0.3675 - val_accuracy: 0.8490\n",
      "Epoch 141/200\n",
      "449/449 [==============================] - 0s 730us/step - loss: 0.3218 - accuracy: 0.8704 - val_loss: 0.3681 - val_accuracy: 0.8486\n",
      "Epoch 142/200\n",
      "449/449 [==============================] - 0s 742us/step - loss: 0.3231 - accuracy: 0.8665 - val_loss: 0.3676 - val_accuracy: 0.8499\n",
      "Epoch 143/200\n",
      "449/449 [==============================] - 0s 745us/step - loss: 0.3247 - accuracy: 0.8635 - val_loss: 0.3679 - val_accuracy: 0.8504\n",
      "Epoch 144/200\n",
      "449/449 [==============================] - 0s 750us/step - loss: 0.3249 - accuracy: 0.8699 - val_loss: 0.3681 - val_accuracy: 0.8481\n",
      "Epoch 145/200\n",
      "449/449 [==============================] - 0s 757us/step - loss: 0.3128 - accuracy: 0.8755 - val_loss: 0.3678 - val_accuracy: 0.8499\n",
      "Epoch 146/200\n",
      "449/449 [==============================] - 0s 759us/step - loss: 0.3320 - accuracy: 0.8708 - val_loss: 0.3674 - val_accuracy: 0.8504\n",
      "Epoch 147/200\n",
      "449/449 [==============================] - 0s 763us/step - loss: 0.3144 - accuracy: 0.8681 - val_loss: 0.3685 - val_accuracy: 0.8481\n",
      "Epoch 148/200\n",
      "449/449 [==============================] - 0s 752us/step - loss: 0.3356 - accuracy: 0.8621 - val_loss: 0.3679 - val_accuracy: 0.8486\n",
      "Epoch 149/200\n",
      "449/449 [==============================] - 0s 750us/step - loss: 0.3144 - accuracy: 0.8667 - val_loss: 0.3675 - val_accuracy: 0.8508\n",
      "Epoch 150/200\n",
      "449/449 [==============================] - 0s 744us/step - loss: 0.3335 - accuracy: 0.8601 - val_loss: 0.3682 - val_accuracy: 0.8490\n",
      "Epoch 151/200\n",
      "449/449 [==============================] - 0s 759us/step - loss: 0.3104 - accuracy: 0.8742 - val_loss: 0.3673 - val_accuracy: 0.8517\n",
      "Epoch 152/200\n",
      "449/449 [==============================] - 0s 759us/step - loss: 0.3155 - accuracy: 0.8725 - val_loss: 0.3675 - val_accuracy: 0.8499\n",
      "Epoch 153/200\n",
      "449/449 [==============================] - 0s 760us/step - loss: 0.3265 - accuracy: 0.8660 - val_loss: 0.3674 - val_accuracy: 0.8513\n",
      "Epoch 154/200\n",
      "449/449 [==============================] - 0s 758us/step - loss: 0.3245 - accuracy: 0.8685 - val_loss: 0.3681 - val_accuracy: 0.8490\n",
      "Epoch 155/200\n",
      "449/449 [==============================] - 0s 761us/step - loss: 0.3226 - accuracy: 0.8668 - val_loss: 0.3677 - val_accuracy: 0.8495\n",
      "Epoch 156/200\n",
      "449/449 [==============================] - 0s 760us/step - loss: 0.3067 - accuracy: 0.8741 - val_loss: 0.3673 - val_accuracy: 0.8504\n",
      "Epoch 157/200\n",
      "449/449 [==============================] - 0s 732us/step - loss: 0.3009 - accuracy: 0.8792 - val_loss: 0.3674 - val_accuracy: 0.8517\n",
      "Epoch 158/200\n",
      "449/449 [==============================] - 0s 767us/step - loss: 0.3121 - accuracy: 0.8712 - val_loss: 0.3676 - val_accuracy: 0.8508\n",
      "Epoch 159/200\n",
      "449/449 [==============================] - 0s 747us/step - loss: 0.3259 - accuracy: 0.8634 - val_loss: 0.3675 - val_accuracy: 0.8490\n",
      "Epoch 160/200\n",
      "449/449 [==============================] - 0s 772us/step - loss: 0.3294 - accuracy: 0.8579 - val_loss: 0.3683 - val_accuracy: 0.8486\n",
      "Epoch 161/200\n",
      "449/449 [==============================] - 0s 756us/step - loss: 0.3280 - accuracy: 0.8687 - val_loss: 0.3677 - val_accuracy: 0.8504\n",
      "Epoch 162/200\n",
      "449/449 [==============================] - 0s 765us/step - loss: 0.3191 - accuracy: 0.8682 - val_loss: 0.3680 - val_accuracy: 0.8490\n",
      "Epoch 163/200\n",
      "449/449 [==============================] - 0s 741us/step - loss: 0.3228 - accuracy: 0.8674 - val_loss: 0.3679 - val_accuracy: 0.8490\n",
      "Epoch 164/200\n",
      "449/449 [==============================] - 0s 741us/step - loss: 0.3152 - accuracy: 0.8690 - val_loss: 0.3676 - val_accuracy: 0.8499\n",
      "Epoch 165/200\n",
      "449/449 [==============================] - 0s 750us/step - loss: 0.3156 - accuracy: 0.8660 - val_loss: 0.3677 - val_accuracy: 0.8508\n",
      "Epoch 166/200\n",
      "449/449 [==============================] - 0s 744us/step - loss: 0.3121 - accuracy: 0.8695 - val_loss: 0.3674 - val_accuracy: 0.8495\n",
      "Epoch 167/200\n",
      "449/449 [==============================] - 0s 746us/step - loss: 0.3192 - accuracy: 0.8710 - val_loss: 0.3676 - val_accuracy: 0.8495\n",
      "Epoch 168/200\n",
      "449/449 [==============================] - 0s 746us/step - loss: 0.3097 - accuracy: 0.8750 - val_loss: 0.3674 - val_accuracy: 0.8508\n"
     ]
    },
    {
     "name": "stdout",
     "output_type": "stream",
     "text": [
      "Epoch 169/200\n",
      "449/449 [==============================] - 0s 750us/step - loss: 0.3146 - accuracy: 0.8757 - val_loss: 0.3669 - val_accuracy: 0.8513\n",
      "Epoch 170/200\n",
      "449/449 [==============================] - 0s 728us/step - loss: 0.3286 - accuracy: 0.8628 - val_loss: 0.3679 - val_accuracy: 0.8486\n",
      "Epoch 171/200\n",
      "449/449 [==============================] - 0s 735us/step - loss: 0.3184 - accuracy: 0.8680 - val_loss: 0.3669 - val_accuracy: 0.8517\n",
      "Epoch 172/200\n",
      "449/449 [==============================] - 0s 860us/step - loss: 0.3270 - accuracy: 0.8668 - val_loss: 0.3675 - val_accuracy: 0.8495\n",
      "Epoch 173/200\n",
      "449/449 [==============================] - 0s 731us/step - loss: 0.3233 - accuracy: 0.8652 - val_loss: 0.3670 - val_accuracy: 0.8513\n",
      "Epoch 174/200\n",
      "449/449 [==============================] - 0s 730us/step - loss: 0.3332 - accuracy: 0.8619 - val_loss: 0.3677 - val_accuracy: 0.8490\n",
      "Epoch 175/200\n",
      "449/449 [==============================] - 0s 726us/step - loss: 0.3278 - accuracy: 0.8658 - val_loss: 0.3670 - val_accuracy: 0.8499\n",
      "Epoch 176/200\n",
      "449/449 [==============================] - 0s 732us/step - loss: 0.3217 - accuracy: 0.8664 - val_loss: 0.3675 - val_accuracy: 0.8495\n",
      "Epoch 177/200\n",
      "449/449 [==============================] - 0s 733us/step - loss: 0.3305 - accuracy: 0.8660 - val_loss: 0.3676 - val_accuracy: 0.8499\n",
      "Epoch 178/200\n",
      "449/449 [==============================] - 0s 728us/step - loss: 0.3150 - accuracy: 0.8724 - val_loss: 0.3666 - val_accuracy: 0.8513\n",
      "Epoch 179/200\n",
      "449/449 [==============================] - 0s 735us/step - loss: 0.3216 - accuracy: 0.8656 - val_loss: 0.3670 - val_accuracy: 0.8495\n",
      "Epoch 180/200\n",
      "449/449 [==============================] - 0s 737us/step - loss: 0.3184 - accuracy: 0.8671 - val_loss: 0.3665 - val_accuracy: 0.8513\n",
      "Epoch 181/200\n",
      "449/449 [==============================] - 0s 735us/step - loss: 0.3172 - accuracy: 0.8739 - val_loss: 0.3665 - val_accuracy: 0.8508\n",
      "Epoch 182/200\n",
      "449/449 [==============================] - 0s 757us/step - loss: 0.3301 - accuracy: 0.8656 - val_loss: 0.3665 - val_accuracy: 0.8508\n",
      "Epoch 183/200\n",
      "449/449 [==============================] - 0s 738us/step - loss: 0.3288 - accuracy: 0.8630 - val_loss: 0.3680 - val_accuracy: 0.8490\n",
      "Epoch 184/200\n",
      "449/449 [==============================] - 0s 740us/step - loss: 0.3156 - accuracy: 0.8720 - val_loss: 0.3670 - val_accuracy: 0.8508\n",
      "Epoch 185/200\n",
      "449/449 [==============================] - 0s 752us/step - loss: 0.3318 - accuracy: 0.8625 - val_loss: 0.3674 - val_accuracy: 0.8499\n",
      "Epoch 186/200\n",
      "449/449 [==============================] - 0s 734us/step - loss: 0.3257 - accuracy: 0.8671 - val_loss: 0.3666 - val_accuracy: 0.8513\n",
      "Epoch 187/200\n",
      "449/449 [==============================] - 0s 752us/step - loss: 0.3113 - accuracy: 0.8725 - val_loss: 0.3665 - val_accuracy: 0.8508\n",
      "Epoch 188/200\n",
      "449/449 [==============================] - 0s 734us/step - loss: 0.3034 - accuracy: 0.8788 - val_loss: 0.3667 - val_accuracy: 0.8508\n",
      "Epoch 189/200\n",
      "449/449 [==============================] - 0s 733us/step - loss: 0.3295 - accuracy: 0.8614 - val_loss: 0.3673 - val_accuracy: 0.8508\n",
      "Epoch 190/200\n",
      "449/449 [==============================] - 0s 730us/step - loss: 0.3161 - accuracy: 0.8693 - val_loss: 0.3669 - val_accuracy: 0.8513\n",
      "Epoch 191/200\n",
      "449/449 [==============================] - 0s 735us/step - loss: 0.3233 - accuracy: 0.8664 - val_loss: 0.3674 - val_accuracy: 0.8499\n",
      "Epoch 192/200\n",
      "449/449 [==============================] - 0s 734us/step - loss: 0.3151 - accuracy: 0.8696 - val_loss: 0.3671 - val_accuracy: 0.8504\n",
      "Epoch 193/200\n",
      "449/449 [==============================] - 0s 738us/step - loss: 0.3192 - accuracy: 0.8712 - val_loss: 0.3669 - val_accuracy: 0.8499\n",
      "Epoch 194/200\n",
      "449/449 [==============================] - 0s 726us/step - loss: 0.3189 - accuracy: 0.8690 - val_loss: 0.3674 - val_accuracy: 0.8513\n",
      "Epoch 195/200\n",
      "449/449 [==============================] - 0s 746us/step - loss: 0.3149 - accuracy: 0.8726 - val_loss: 0.3669 - val_accuracy: 0.8513\n",
      "Epoch 196/200\n",
      "449/449 [==============================] - 0s 730us/step - loss: 0.3100 - accuracy: 0.8761 - val_loss: 0.3670 - val_accuracy: 0.8508\n",
      "Epoch 197/200\n",
      "449/449 [==============================] - 0s 735us/step - loss: 0.3132 - accuracy: 0.8769 - val_loss: 0.3669 - val_accuracy: 0.8504\n",
      "Epoch 198/200\n",
      "449/449 [==============================] - 0s 736us/step - loss: 0.3325 - accuracy: 0.8552 - val_loss: 0.3675 - val_accuracy: 0.8499\n",
      "Epoch 199/200\n",
      "449/449 [==============================] - 0s 725us/step - loss: 0.3058 - accuracy: 0.8736 - val_loss: 0.3667 - val_accuracy: 0.8504\n",
      "Epoch 200/200\n",
      "449/449 [==============================] - 0s 739us/step - loss: 0.3175 - accuracy: 0.8684 - val_loss: 0.3669 - val_accuracy: 0.8517\n"
     ]
    }
   ],
   "source": [
    "mmodel_metrics=model.fit(X_train,y_train,validation_split=0.33,batch_size=10,epochs=200)"
   ]
  },
  {
   "cell_type": "markdown",
   "metadata": {},
   "source": [
    "### Evaluation Metrics"
   ]
  },
  {
   "cell_type": "code",
   "execution_count": 39,
   "metadata": {},
   "outputs": [],
   "source": [
    "y_predict = model.predict(X_test)"
   ]
  },
  {
   "cell_type": "code",
   "execution_count": 43,
   "metadata": {},
   "outputs": [],
   "source": [
    "y_predict = (y_predict>0.5)"
   ]
  },
  {
   "cell_type": "code",
   "execution_count": 44,
   "metadata": {},
   "outputs": [],
   "source": [
    "from sklearn.metrics import confusion_matrix"
   ]
  },
  {
   "cell_type": "code",
   "execution_count": 45,
   "metadata": {},
   "outputs": [],
   "source": [
    "cm = confusion_matrix(y_predict,y_test)"
   ]
  },
  {
   "cell_type": "code",
   "execution_count": 46,
   "metadata": {},
   "outputs": [
    {
     "name": "stdout",
     "output_type": "stream",
     "text": [
      "[[2485  346]\n",
      " [ 132  337]]\n"
     ]
    }
   ],
   "source": [
    "print(cm)"
   ]
  },
  {
   "cell_type": "code",
   "execution_count": 47,
   "metadata": {},
   "outputs": [],
   "source": [
    "from sklearn.metrics import accuracy_score"
   ]
  },
  {
   "cell_type": "code",
   "execution_count": 48,
   "metadata": {},
   "outputs": [],
   "source": [
    "acc = accuracy_score(y_predict,y_test) "
   ]
  },
  {
   "cell_type": "code",
   "execution_count": 50,
   "metadata": {},
   "outputs": [
    {
     "name": "stdout",
     "output_type": "stream",
     "text": [
      "85.51515151515152\n"
     ]
    }
   ],
   "source": [
    "print(acc * 100) # Accuracy"
   ]
  },
  {
   "cell_type": "code",
   "execution_count": null,
   "metadata": {},
   "outputs": [],
   "source": []
  }
 ],
 "metadata": {
  "kernelspec": {
   "display_name": "Python 3",
   "language": "python",
   "name": "python3"
  },
  "language_info": {
   "codemirror_mode": {
    "name": "ipython",
    "version": 3
   },
   "file_extension": ".py",
   "mimetype": "text/x-python",
   "name": "python",
   "nbconvert_exporter": "python",
   "pygments_lexer": "ipython3",
   "version": "3.6.12"
  }
 },
 "nbformat": 4,
 "nbformat_minor": 4
}
